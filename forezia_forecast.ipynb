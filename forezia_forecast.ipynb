{
 "cells": [
  {
   "cell_type": "markdown",
   "id": "bf8720e9",
   "metadata": {},
   "source": [
    "# 🧠 Forezia Forecasting Notebook\n",
    "This notebook processes a Shopify orders CSV and generates SKU-level forecasts."
   ]
  },
  {
   "cell_type": "code",
   "execution_count": 1,
   "id": "91e72b73",
   "metadata": {},
   "outputs": [
    {
     "data": {
      "application/vnd.microsoft.datawrangler.viewer.v0+json": {
       "columns": [
        {
         "name": "index",
         "rawType": "int64",
         "type": "integer"
        },
        {
         "name": "Name",
         "rawType": "object",
         "type": "string"
        },
        {
         "name": "Email",
         "rawType": "object",
         "type": "unknown"
        },
        {
         "name": "Financial Status",
         "rawType": "object",
         "type": "unknown"
        },
        {
         "name": "Paid at",
         "rawType": "object",
         "type": "unknown"
        },
        {
         "name": "Fulfillment Status",
         "rawType": "object",
         "type": "unknown"
        },
        {
         "name": "Fulfilled at",
         "rawType": "object",
         "type": "unknown"
        },
        {
         "name": "Accepts Marketing",
         "rawType": "object",
         "type": "unknown"
        },
        {
         "name": "Currency",
         "rawType": "object",
         "type": "unknown"
        },
        {
         "name": "Subtotal",
         "rawType": "float64",
         "type": "float"
        },
        {
         "name": "Shipping",
         "rawType": "float64",
         "type": "float"
        },
        {
         "name": "Taxes",
         "rawType": "float64",
         "type": "float"
        },
        {
         "name": "Total",
         "rawType": "float64",
         "type": "float"
        },
        {
         "name": "Discount Code",
         "rawType": "float64",
         "type": "float"
        },
        {
         "name": "Discount Amount",
         "rawType": "float64",
         "type": "float"
        },
        {
         "name": "Shipping Method",
         "rawType": "float64",
         "type": "float"
        },
        {
         "name": "Created at",
         "rawType": "object",
         "type": "string"
        },
        {
         "name": "Lineitem quantity",
         "rawType": "int64",
         "type": "integer"
        },
        {
         "name": "Lineitem name",
         "rawType": "object",
         "type": "string"
        },
        {
         "name": "Lineitem price",
         "rawType": "float64",
         "type": "float"
        },
        {
         "name": "Lineitem compare at price",
         "rawType": "float64",
         "type": "float"
        },
        {
         "name": "Lineitem sku",
         "rawType": "object",
         "type": "unknown"
        },
        {
         "name": "Lineitem requires shipping",
         "rawType": "bool",
         "type": "boolean"
        },
        {
         "name": "Lineitem taxable",
         "rawType": "bool",
         "type": "boolean"
        },
        {
         "name": "Lineitem fulfillment status",
         "rawType": "object",
         "type": "string"
        },
        {
         "name": "Billing Name",
         "rawType": "object",
         "type": "unknown"
        },
        {
         "name": "Billing Street",
         "rawType": "object",
         "type": "unknown"
        },
        {
         "name": "Billing Address1",
         "rawType": "object",
         "type": "unknown"
        },
        {
         "name": "Billing Address2",
         "rawType": "float64",
         "type": "float"
        },
        {
         "name": "Billing Company",
         "rawType": "object",
         "type": "unknown"
        },
        {
         "name": "Billing City",
         "rawType": "object",
         "type": "unknown"
        },
        {
         "name": "Billing Zip",
         "rawType": "object",
         "type": "unknown"
        },
        {
         "name": "Billing Province",
         "rawType": "object",
         "type": "unknown"
        },
        {
         "name": "Billing Country",
         "rawType": "object",
         "type": "unknown"
        },
        {
         "name": "Billing Phone",
         "rawType": "float64",
         "type": "float"
        },
        {
         "name": "Shipping Name",
         "rawType": "object",
         "type": "unknown"
        },
        {
         "name": "Shipping Street",
         "rawType": "object",
         "type": "unknown"
        },
        {
         "name": "Shipping Address1",
         "rawType": "object",
         "type": "unknown"
        },
        {
         "name": "Shipping Address2",
         "rawType": "float64",
         "type": "float"
        },
        {
         "name": "Shipping Company",
         "rawType": "object",
         "type": "unknown"
        },
        {
         "name": "Shipping City",
         "rawType": "object",
         "type": "unknown"
        },
        {
         "name": "Shipping Zip",
         "rawType": "object",
         "type": "unknown"
        },
        {
         "name": "Shipping Province",
         "rawType": "object",
         "type": "unknown"
        },
        {
         "name": "Shipping Country",
         "rawType": "object",
         "type": "unknown"
        },
        {
         "name": "Shipping Phone",
         "rawType": "float64",
         "type": "float"
        },
        {
         "name": "Notes",
         "rawType": "float64",
         "type": "float"
        },
        {
         "name": "Note Attributes",
         "rawType": "float64",
         "type": "float"
        },
        {
         "name": "Cancelled at",
         "rawType": "float64",
         "type": "float"
        },
        {
         "name": "Payment Method",
         "rawType": "object",
         "type": "unknown"
        },
        {
         "name": "Payment Reference",
         "rawType": "object",
         "type": "unknown"
        },
        {
         "name": "Refunded Amount",
         "rawType": "float64",
         "type": "float"
        },
        {
         "name": "Vendor",
         "rawType": "object",
         "type": "string"
        },
        {
         "name": "Outstanding Balance",
         "rawType": "float64",
         "type": "float"
        },
        {
         "name": "Employee",
         "rawType": "object",
         "type": "unknown"
        },
        {
         "name": "Location",
         "rawType": "object",
         "type": "unknown"
        },
        {
         "name": "Device ID",
         "rawType": "float64",
         "type": "float"
        },
        {
         "name": "Id",
         "rawType": "float64",
         "type": "float"
        },
        {
         "name": "Tags",
         "rawType": "float64",
         "type": "float"
        },
        {
         "name": "Risk Level",
         "rawType": "object",
         "type": "unknown"
        },
        {
         "name": "Source",
         "rawType": "object",
         "type": "unknown"
        },
        {
         "name": "Lineitem discount",
         "rawType": "float64",
         "type": "float"
        },
        {
         "name": "Tax 1 Name",
         "rawType": "float64",
         "type": "float"
        },
        {
         "name": "Tax 1 Value",
         "rawType": "float64",
         "type": "float"
        },
        {
         "name": "Tax 2 Name",
         "rawType": "float64",
         "type": "float"
        },
        {
         "name": "Tax 2 Value",
         "rawType": "float64",
         "type": "float"
        },
        {
         "name": "Tax 3 Name",
         "rawType": "float64",
         "type": "float"
        },
        {
         "name": "Tax 3 Value",
         "rawType": "float64",
         "type": "float"
        },
        {
         "name": "Tax 4 Name",
         "rawType": "float64",
         "type": "float"
        },
        {
         "name": "Tax 4 Value",
         "rawType": "float64",
         "type": "float"
        },
        {
         "name": "Tax 5 Name",
         "rawType": "float64",
         "type": "float"
        },
        {
         "name": "Tax 5 Value",
         "rawType": "float64",
         "type": "float"
        },
        {
         "name": "Phone",
         "rawType": "float64",
         "type": "float"
        },
        {
         "name": "Receipt Number",
         "rawType": "float64",
         "type": "float"
        },
        {
         "name": "Duties",
         "rawType": "float64",
         "type": "float"
        },
        {
         "name": "Billing Province Name",
         "rawType": "object",
         "type": "unknown"
        },
        {
         "name": "Shipping Province Name",
         "rawType": "object",
         "type": "unknown"
        },
        {
         "name": "Payment ID",
         "rawType": "object",
         "type": "unknown"
        },
        {
         "name": "Payment Terms Name",
         "rawType": "object",
         "type": "unknown"
        },
        {
         "name": "Next Payment Due At",
         "rawType": "object",
         "type": "unknown"
        },
        {
         "name": "Payment References",
         "rawType": "object",
         "type": "unknown"
        }
       ],
       "ref": "a2b10c32-d0e9-4e3e-b9e2-522af4ec5327",
       "rows": [
        [
         "0",
         "#1001",
         null,
         "paid",
         "2025-05-11 09:55:16 -0400",
         "fulfilled",
         "2025-05-11 09:57:05 -0400",
         "no",
         "EUR",
         "1659.95",
         "0.0",
         "0.0",
         "1659.95",
         null,
         "0.0",
         null,
         "2025-05-11 09:55:16 -0400",
         "1",
         "Gift Card - $10",
         "10.0",
         null,
         null,
         "False",
         "False",
         "fulfilled",
         null,
         null,
         null,
         null,
         null,
         null,
         null,
         null,
         null,
         null,
         null,
         null,
         null,
         null,
         null,
         null,
         null,
         null,
         null,
         null,
         null,
         null,
         null,
         "manual",
         "rZcE2A8z2PsX5lSwvlVnslhPs",
         "0.0",
         "Snowboard Vendor",
         "0.0",
         "Luis Guimaraes",
         "Shop location",
         null,
         "6634244374859.0",
         null,
         "Low",
         "shopify_draft_order",
         "0.0",
         null,
         null,
         null,
         null,
         null,
         null,
         null,
         null,
         null,
         null,
         null,
         null,
         null,
         null,
         null,
         "rZcE2A8z2PsX5lSwvlVnslhPs",
         null,
         null,
         "rZcE2A8z2PsX5lSwvlVnslhPs"
        ],
        [
         "1",
         "#1001",
         null,
         null,
         null,
         null,
         null,
         null,
         null,
         null,
         null,
         null,
         null,
         null,
         null,
         null,
         "2025-05-11 09:55:16 -0400",
         "1",
         "Selling Plans Ski Wax - Selling Plans Ski Wax",
         "24.95",
         null,
         null,
         "True",
         "True",
         "fulfilled",
         null,
         null,
         null,
         null,
         null,
         null,
         null,
         null,
         null,
         null,
         null,
         null,
         null,
         null,
         null,
         null,
         null,
         null,
         null,
         null,
         null,
         null,
         null,
         null,
         null,
         null,
         "Test Cycle Sense App",
         null,
         null,
         null,
         null,
         null,
         null,
         null,
         null,
         "0.0",
         null,
         null,
         null,
         null,
         null,
         null,
         null,
         null,
         null,
         null,
         null,
         null,
         null,
         null,
         null,
         null,
         null,
         null,
         null
        ],
        [
         "2",
         "#1001",
         null,
         null,
         null,
         null,
         null,
         null,
         null,
         null,
         null,
         null,
         null,
         null,
         null,
         null,
         "2025-05-11 09:55:16 -0400",
         "1",
         "The Collection Snowboard: Hydrogen",
         "600.0",
         null,
         null,
         "True",
         "True",
         "fulfilled",
         null,
         null,
         null,
         null,
         null,
         null,
         null,
         null,
         null,
         null,
         null,
         null,
         null,
         null,
         null,
         null,
         null,
         null,
         null,
         null,
         null,
         null,
         null,
         null,
         null,
         null,
         "Hydrogen Vendor",
         null,
         null,
         null,
         null,
         null,
         null,
         null,
         null,
         "0.0",
         null,
         null,
         null,
         null,
         null,
         null,
         null,
         null,
         null,
         null,
         null,
         null,
         null,
         null,
         null,
         null,
         null,
         null,
         null
        ],
        [
         "3",
         "#1001",
         null,
         null,
         null,
         null,
         null,
         null,
         null,
         null,
         null,
         null,
         null,
         null,
         null,
         null,
         "2025-05-11 09:55:16 -0400",
         "1",
         "The Collection Snowboard: Oxygen",
         "1025.0",
         null,
         null,
         "True",
         "True",
         "fulfilled",
         null,
         null,
         null,
         null,
         null,
         null,
         null,
         null,
         null,
         null,
         null,
         null,
         null,
         null,
         null,
         null,
         null,
         null,
         null,
         null,
         null,
         null,
         null,
         null,
         null,
         null,
         "Hydrogen Vendor",
         null,
         null,
         null,
         null,
         null,
         null,
         null,
         null,
         "0.0",
         null,
         null,
         null,
         null,
         null,
         null,
         null,
         null,
         null,
         null,
         null,
         null,
         null,
         null,
         null,
         null,
         null,
         null,
         null
        ],
        [
         "4",
         "#1002",
         null,
         "paid",
         "2025-05-11 09:56:23 -0400",
         "fulfilled",
         "2025-05-11 09:56:57 -0400",
         "no",
         "EUR",
         "1615.9",
         "0.0",
         "0.0",
         "1615.9",
         null,
         "0.0",
         null,
         "2025-05-11 09:56:23 -0400",
         "1",
         "The Minimal Snowboard",
         "885.95",
         null,
         null,
         "True",
         "True",
         "fulfilled",
         null,
         null,
         null,
         null,
         null,
         null,
         null,
         null,
         null,
         null,
         null,
         null,
         null,
         null,
         null,
         null,
         null,
         null,
         null,
         null,
         null,
         null,
         null,
         "manual",
         "rroDRkhlMQI1NK5MjSz6wn2j6",
         "0.0",
         "Test Cycle Sense App",
         "0.0",
         "Luis Guimaraes",
         "Shop location",
         null,
         "6634245652811.0",
         null,
         "Low",
         "shopify_draft_order",
         "0.0",
         null,
         null,
         null,
         null,
         null,
         null,
         null,
         null,
         null,
         null,
         null,
         null,
         null,
         null,
         null,
         "rroDRkhlMQI1NK5MjSz6wn2j6",
         null,
         null,
         "rroDRkhlMQI1NK5MjSz6wn2j6"
        ]
       ],
       "shape": {
        "columns": 79,
        "rows": 5
       }
      },
      "text/html": [
       "<div>\n",
       "<style scoped>\n",
       "    .dataframe tbody tr th:only-of-type {\n",
       "        vertical-align: middle;\n",
       "    }\n",
       "\n",
       "    .dataframe tbody tr th {\n",
       "        vertical-align: top;\n",
       "    }\n",
       "\n",
       "    .dataframe thead th {\n",
       "        text-align: right;\n",
       "    }\n",
       "</style>\n",
       "<table border=\"1\" class=\"dataframe\">\n",
       "  <thead>\n",
       "    <tr style=\"text-align: right;\">\n",
       "      <th></th>\n",
       "      <th>Name</th>\n",
       "      <th>Email</th>\n",
       "      <th>Financial Status</th>\n",
       "      <th>Paid at</th>\n",
       "      <th>Fulfillment Status</th>\n",
       "      <th>Fulfilled at</th>\n",
       "      <th>Accepts Marketing</th>\n",
       "      <th>Currency</th>\n",
       "      <th>Subtotal</th>\n",
       "      <th>Shipping</th>\n",
       "      <th>...</th>\n",
       "      <th>Tax 5 Value</th>\n",
       "      <th>Phone</th>\n",
       "      <th>Receipt Number</th>\n",
       "      <th>Duties</th>\n",
       "      <th>Billing Province Name</th>\n",
       "      <th>Shipping Province Name</th>\n",
       "      <th>Payment ID</th>\n",
       "      <th>Payment Terms Name</th>\n",
       "      <th>Next Payment Due At</th>\n",
       "      <th>Payment References</th>\n",
       "    </tr>\n",
       "  </thead>\n",
       "  <tbody>\n",
       "    <tr>\n",
       "      <th>0</th>\n",
       "      <td>#1001</td>\n",
       "      <td>NaN</td>\n",
       "      <td>paid</td>\n",
       "      <td>2025-05-11 09:55:16 -0400</td>\n",
       "      <td>fulfilled</td>\n",
       "      <td>2025-05-11 09:57:05 -0400</td>\n",
       "      <td>no</td>\n",
       "      <td>EUR</td>\n",
       "      <td>1659.95</td>\n",
       "      <td>0.0</td>\n",
       "      <td>...</td>\n",
       "      <td>NaN</td>\n",
       "      <td>NaN</td>\n",
       "      <td>NaN</td>\n",
       "      <td>NaN</td>\n",
       "      <td>NaN</td>\n",
       "      <td>NaN</td>\n",
       "      <td>rZcE2A8z2PsX5lSwvlVnslhPs</td>\n",
       "      <td>NaN</td>\n",
       "      <td>NaN</td>\n",
       "      <td>rZcE2A8z2PsX5lSwvlVnslhPs</td>\n",
       "    </tr>\n",
       "    <tr>\n",
       "      <th>1</th>\n",
       "      <td>#1001</td>\n",
       "      <td>NaN</td>\n",
       "      <td>NaN</td>\n",
       "      <td>NaN</td>\n",
       "      <td>NaN</td>\n",
       "      <td>NaN</td>\n",
       "      <td>NaN</td>\n",
       "      <td>NaN</td>\n",
       "      <td>NaN</td>\n",
       "      <td>NaN</td>\n",
       "      <td>...</td>\n",
       "      <td>NaN</td>\n",
       "      <td>NaN</td>\n",
       "      <td>NaN</td>\n",
       "      <td>NaN</td>\n",
       "      <td>NaN</td>\n",
       "      <td>NaN</td>\n",
       "      <td>NaN</td>\n",
       "      <td>NaN</td>\n",
       "      <td>NaN</td>\n",
       "      <td>NaN</td>\n",
       "    </tr>\n",
       "    <tr>\n",
       "      <th>2</th>\n",
       "      <td>#1001</td>\n",
       "      <td>NaN</td>\n",
       "      <td>NaN</td>\n",
       "      <td>NaN</td>\n",
       "      <td>NaN</td>\n",
       "      <td>NaN</td>\n",
       "      <td>NaN</td>\n",
       "      <td>NaN</td>\n",
       "      <td>NaN</td>\n",
       "      <td>NaN</td>\n",
       "      <td>...</td>\n",
       "      <td>NaN</td>\n",
       "      <td>NaN</td>\n",
       "      <td>NaN</td>\n",
       "      <td>NaN</td>\n",
       "      <td>NaN</td>\n",
       "      <td>NaN</td>\n",
       "      <td>NaN</td>\n",
       "      <td>NaN</td>\n",
       "      <td>NaN</td>\n",
       "      <td>NaN</td>\n",
       "    </tr>\n",
       "    <tr>\n",
       "      <th>3</th>\n",
       "      <td>#1001</td>\n",
       "      <td>NaN</td>\n",
       "      <td>NaN</td>\n",
       "      <td>NaN</td>\n",
       "      <td>NaN</td>\n",
       "      <td>NaN</td>\n",
       "      <td>NaN</td>\n",
       "      <td>NaN</td>\n",
       "      <td>NaN</td>\n",
       "      <td>NaN</td>\n",
       "      <td>...</td>\n",
       "      <td>NaN</td>\n",
       "      <td>NaN</td>\n",
       "      <td>NaN</td>\n",
       "      <td>NaN</td>\n",
       "      <td>NaN</td>\n",
       "      <td>NaN</td>\n",
       "      <td>NaN</td>\n",
       "      <td>NaN</td>\n",
       "      <td>NaN</td>\n",
       "      <td>NaN</td>\n",
       "    </tr>\n",
       "    <tr>\n",
       "      <th>4</th>\n",
       "      <td>#1002</td>\n",
       "      <td>NaN</td>\n",
       "      <td>paid</td>\n",
       "      <td>2025-05-11 09:56:23 -0400</td>\n",
       "      <td>fulfilled</td>\n",
       "      <td>2025-05-11 09:56:57 -0400</td>\n",
       "      <td>no</td>\n",
       "      <td>EUR</td>\n",
       "      <td>1615.90</td>\n",
       "      <td>0.0</td>\n",
       "      <td>...</td>\n",
       "      <td>NaN</td>\n",
       "      <td>NaN</td>\n",
       "      <td>NaN</td>\n",
       "      <td>NaN</td>\n",
       "      <td>NaN</td>\n",
       "      <td>NaN</td>\n",
       "      <td>rroDRkhlMQI1NK5MjSz6wn2j6</td>\n",
       "      <td>NaN</td>\n",
       "      <td>NaN</td>\n",
       "      <td>rroDRkhlMQI1NK5MjSz6wn2j6</td>\n",
       "    </tr>\n",
       "  </tbody>\n",
       "</table>\n",
       "<p>5 rows × 79 columns</p>\n",
       "</div>"
      ],
      "text/plain": [
       "    Name Email Financial Status                    Paid at Fulfillment Status  \\\n",
       "0  #1001   NaN             paid  2025-05-11 09:55:16 -0400          fulfilled   \n",
       "1  #1001   NaN              NaN                        NaN                NaN   \n",
       "2  #1001   NaN              NaN                        NaN                NaN   \n",
       "3  #1001   NaN              NaN                        NaN                NaN   \n",
       "4  #1002   NaN             paid  2025-05-11 09:56:23 -0400          fulfilled   \n",
       "\n",
       "                Fulfilled at Accepts Marketing Currency  Subtotal  Shipping  \\\n",
       "0  2025-05-11 09:57:05 -0400                no      EUR   1659.95       0.0   \n",
       "1                        NaN               NaN      NaN       NaN       NaN   \n",
       "2                        NaN               NaN      NaN       NaN       NaN   \n",
       "3                        NaN               NaN      NaN       NaN       NaN   \n",
       "4  2025-05-11 09:56:57 -0400                no      EUR   1615.90       0.0   \n",
       "\n",
       "   ...  Tax 5 Value  Phone  Receipt Number  Duties  Billing Province Name  \\\n",
       "0  ...          NaN    NaN             NaN     NaN                    NaN   \n",
       "1  ...          NaN    NaN             NaN     NaN                    NaN   \n",
       "2  ...          NaN    NaN             NaN     NaN                    NaN   \n",
       "3  ...          NaN    NaN             NaN     NaN                    NaN   \n",
       "4  ...          NaN    NaN             NaN     NaN                    NaN   \n",
       "\n",
       "  Shipping Province Name                 Payment ID Payment Terms Name  \\\n",
       "0                    NaN  rZcE2A8z2PsX5lSwvlVnslhPs                NaN   \n",
       "1                    NaN                        NaN                NaN   \n",
       "2                    NaN                        NaN                NaN   \n",
       "3                    NaN                        NaN                NaN   \n",
       "4                    NaN  rroDRkhlMQI1NK5MjSz6wn2j6                NaN   \n",
       "\n",
       "   Next Payment Due At         Payment References  \n",
       "0                  NaN  rZcE2A8z2PsX5lSwvlVnslhPs  \n",
       "1                  NaN                        NaN  \n",
       "2                  NaN                        NaN  \n",
       "3                  NaN                        NaN  \n",
       "4                  NaN  rroDRkhlMQI1NK5MjSz6wn2j6  \n",
       "\n",
       "[5 rows x 79 columns]"
      ]
     },
     "execution_count": 1,
     "metadata": {},
     "output_type": "execute_result"
    }
   ],
   "source": [
    "# Step 1: Load the CSV\n",
    "import pandas as pd\n",
    "\n",
    "# Adjust the path if needed\n",
    "file_path = 'orders_export.csv'\n",
    "df = pd.read_csv(file_path)\n",
    "df.head()"
   ]
  },
  {
   "cell_type": "code",
   "execution_count": 2,
   "id": "5e371f93",
   "metadata": {},
   "outputs": [
    {
     "data": {
      "application/vnd.microsoft.datawrangler.viewer.v0+json": {
       "columns": [
        {
         "name": "index",
         "rawType": "int64",
         "type": "integer"
        },
        {
         "name": "product_id",
         "rawType": "object",
         "type": "string"
        },
        {
         "name": "date",
         "rawType": "object",
         "type": "unknown"
        },
        {
         "name": "Lineitem quantity",
         "rawType": "int64",
         "type": "integer"
        }
       ],
       "ref": "c8605bb8-d257-40ed-a3eb-f98bf8c89a95",
       "rows": [
        [
         "0",
         "Gift Card - $10",
         "2025-05-11",
         "1"
        ],
        [
         "1",
         "Gift Card - $10",
         "2025-05-12",
         "1"
        ],
        [
         "2",
         "Gift Card - $10",
         "2025-05-13",
         "3"
        ],
        [
         "3",
         "Gift Card - $10",
         "2025-05-17",
         "2"
        ],
        [
         "4",
         "Gift Card - $100",
         "2025-05-13",
         "2"
        ]
       ],
       "shape": {
        "columns": 3,
        "rows": 5
       }
      },
      "text/html": [
       "<div>\n",
       "<style scoped>\n",
       "    .dataframe tbody tr th:only-of-type {\n",
       "        vertical-align: middle;\n",
       "    }\n",
       "\n",
       "    .dataframe tbody tr th {\n",
       "        vertical-align: top;\n",
       "    }\n",
       "\n",
       "    .dataframe thead th {\n",
       "        text-align: right;\n",
       "    }\n",
       "</style>\n",
       "<table border=\"1\" class=\"dataframe\">\n",
       "  <thead>\n",
       "    <tr style=\"text-align: right;\">\n",
       "      <th></th>\n",
       "      <th>product_id</th>\n",
       "      <th>date</th>\n",
       "      <th>Lineitem quantity</th>\n",
       "    </tr>\n",
       "  </thead>\n",
       "  <tbody>\n",
       "    <tr>\n",
       "      <th>0</th>\n",
       "      <td>Gift Card - $10</td>\n",
       "      <td>2025-05-11</td>\n",
       "      <td>1</td>\n",
       "    </tr>\n",
       "    <tr>\n",
       "      <th>1</th>\n",
       "      <td>Gift Card - $10</td>\n",
       "      <td>2025-05-12</td>\n",
       "      <td>1</td>\n",
       "    </tr>\n",
       "    <tr>\n",
       "      <th>2</th>\n",
       "      <td>Gift Card - $10</td>\n",
       "      <td>2025-05-13</td>\n",
       "      <td>3</td>\n",
       "    </tr>\n",
       "    <tr>\n",
       "      <th>3</th>\n",
       "      <td>Gift Card - $10</td>\n",
       "      <td>2025-05-17</td>\n",
       "      <td>2</td>\n",
       "    </tr>\n",
       "    <tr>\n",
       "      <th>4</th>\n",
       "      <td>Gift Card - $100</td>\n",
       "      <td>2025-05-13</td>\n",
       "      <td>2</td>\n",
       "    </tr>\n",
       "  </tbody>\n",
       "</table>\n",
       "</div>"
      ],
      "text/plain": [
       "         product_id        date  Lineitem quantity\n",
       "0   Gift Card - $10  2025-05-11                  1\n",
       "1   Gift Card - $10  2025-05-12                  1\n",
       "2   Gift Card - $10  2025-05-13                  3\n",
       "3   Gift Card - $10  2025-05-17                  2\n",
       "4  Gift Card - $100  2025-05-13                  2"
      ]
     },
     "execution_count": 2,
     "metadata": {},
     "output_type": "execute_result"
    }
   ],
   "source": [
    "# Step 2: Prepare the dataset\n",
    "df['Created at'] = pd.to_datetime(df['Created at'])\n",
    "df['date'] = df['Created at'].dt.date\n",
    "df['product_id'] = df['Lineitem sku'].fillna(df['Lineitem name'])\n",
    "\n",
    "sku_daily = df.groupby(['product_id', 'date'])['Lineitem quantity'].sum().reset_index()\n",
    "sku_daily.head()"
   ]
  },
  {
   "cell_type": "code",
   "execution_count": 7,
   "id": "61ed0562",
   "metadata": {},
   "outputs": [
    {
     "data": {
      "application/vnd.microsoft.datawrangler.viewer.v0+json": {
       "columns": [
        {
         "name": "index",
         "rawType": "int64",
         "type": "integer"
        },
        {
         "name": "product_id",
         "rawType": "object",
         "type": "string"
        },
        {
         "name": "ds",
         "rawType": "object",
         "type": "unknown"
        },
        {
         "name": "y",
         "rawType": "int64",
         "type": "integer"
        }
       ],
       "ref": "ae3f0439-30ca-4548-ba31-61c915702ed3",
       "rows": [
        [
         "10",
         "Selling Plans Ski Wax - Selling Plans Ski Wax",
         "2025-05-11",
         "1"
        ],
        [
         "11",
         "Selling Plans Ski Wax - Selling Plans Ski Wax",
         "2025-05-12",
         "1"
        ],
        [
         "12",
         "Selling Plans Ski Wax - Selling Plans Ski Wax",
         "2025-05-13",
         "1"
        ],
        [
         "13",
         "Selling Plans Ski Wax - Selling Plans Ski Wax",
         "2025-05-16",
         "1"
        ],
        [
         "14",
         "Selling Plans Ski Wax - Selling Plans Ski Wax",
         "2025-05-17",
         "1"
        ]
       ],
       "shape": {
        "columns": 3,
        "rows": 5
       }
      },
      "text/html": [
       "<div>\n",
       "<style scoped>\n",
       "    .dataframe tbody tr th:only-of-type {\n",
       "        vertical-align: middle;\n",
       "    }\n",
       "\n",
       "    .dataframe tbody tr th {\n",
       "        vertical-align: top;\n",
       "    }\n",
       "\n",
       "    .dataframe thead th {\n",
       "        text-align: right;\n",
       "    }\n",
       "</style>\n",
       "<table border=\"1\" class=\"dataframe\">\n",
       "  <thead>\n",
       "    <tr style=\"text-align: right;\">\n",
       "      <th></th>\n",
       "      <th>product_id</th>\n",
       "      <th>ds</th>\n",
       "      <th>y</th>\n",
       "    </tr>\n",
       "  </thead>\n",
       "  <tbody>\n",
       "    <tr>\n",
       "      <th>10</th>\n",
       "      <td>Selling Plans Ski Wax - Selling Plans Ski Wax</td>\n",
       "      <td>2025-05-11</td>\n",
       "      <td>1</td>\n",
       "    </tr>\n",
       "    <tr>\n",
       "      <th>11</th>\n",
       "      <td>Selling Plans Ski Wax - Selling Plans Ski Wax</td>\n",
       "      <td>2025-05-12</td>\n",
       "      <td>1</td>\n",
       "    </tr>\n",
       "    <tr>\n",
       "      <th>12</th>\n",
       "      <td>Selling Plans Ski Wax - Selling Plans Ski Wax</td>\n",
       "      <td>2025-05-13</td>\n",
       "      <td>1</td>\n",
       "    </tr>\n",
       "    <tr>\n",
       "      <th>13</th>\n",
       "      <td>Selling Plans Ski Wax - Selling Plans Ski Wax</td>\n",
       "      <td>2025-05-16</td>\n",
       "      <td>1</td>\n",
       "    </tr>\n",
       "    <tr>\n",
       "      <th>14</th>\n",
       "      <td>Selling Plans Ski Wax - Selling Plans Ski Wax</td>\n",
       "      <td>2025-05-17</td>\n",
       "      <td>1</td>\n",
       "    </tr>\n",
       "  </tbody>\n",
       "</table>\n",
       "</div>"
      ],
      "text/plain": [
       "                                       product_id          ds  y\n",
       "10  Selling Plans Ski Wax - Selling Plans Ski Wax  2025-05-11  1\n",
       "11  Selling Plans Ski Wax - Selling Plans Ski Wax  2025-05-12  1\n",
       "12  Selling Plans Ski Wax - Selling Plans Ski Wax  2025-05-13  1\n",
       "13  Selling Plans Ski Wax - Selling Plans Ski Wax  2025-05-16  1\n",
       "14  Selling Plans Ski Wax - Selling Plans Ski Wax  2025-05-17  1"
      ]
     },
     "execution_count": 7,
     "metadata": {},
     "output_type": "execute_result"
    }
   ],
   "source": [
    "# Step 3: Select a top-selling SKU to forecast\n",
    "top_sku = sku_daily['product_id'].value_counts().index[0]\n",
    "sku_df = sku_daily[sku_daily['product_id'] == top_sku].copy()\n",
    "sku_df.columns = ['product_id', 'ds', 'y']\n",
    "sku_df = sku_df[['product_id', 'ds', 'y']]\n",
    "sku_df.head()"
   ]
  },
  {
   "cell_type": "code",
   "execution_count": 8,
   "id": "2701ab75",
   "metadata": {},
   "outputs": [],
   "source": [
    "# save the sku_df in a CSV file\n",
    "sku_df.to_csv('top_sku_daily_sales.csv', index=False)\n"
   ]
  },
  {
   "cell_type": "code",
   "execution_count": 4,
   "id": "d5c7d08e",
   "metadata": {},
   "outputs": [
    {
     "name": "stderr",
     "output_type": "stream",
     "text": [
      "/Users/luis.guimaraes/Library/Python/3.9/lib/python/site-packages/tqdm/auto.py:21: TqdmWarning: IProgress not found. Please update jupyter and ipywidgets. See https://ipywidgets.readthedocs.io/en/stable/user_install.html\n",
      "  from .autonotebook import tqdm as notebook_tqdm\n",
      "Importing plotly failed. Interactive plots will not work.\n"
     ]
    },
    {
     "data": {
      "image/png": "[encoded data removed]",
      "text/plain": [
       "<Figure size 1000x600 with 1 Axes>"
      ]
     },
     "metadata": {},
     "output_type": "display_data"
    }
   ],
   "source": [
    "# Step 4: Forecast using Prophet\n",
    "# %pip install prophet\n",
    "from prophet import Prophet\n",
    "\n",
    "model = Prophet()\n",
    "model.add_country_holidays(country_name='UnitedStates')  # Placeholder\n",
    "model.fit(sku_df)\n",
    "\n",
    "future = model.make_future_dataframe(periods=30)\n",
    "forecast = model.predict(future)\n",
    "\n",
    "fig = model.plot(forecast)"
   ]
  },
  {
   "cell_type": "code",
   "execution_count": 5,
   "id": "3c9690d6",
   "metadata": {},
   "outputs": [],
   "source": [
    "# Step 5: Evaluate confidence (placeholder)\n",
    "# from modules.forecast_confidence import score_forecast\n",
    "# confidence = score_forecast(sku_df)\n",
    "# print(\"Forecast confidence:\", confidence)"
   ]
  }
 ],
 "metadata": {
  "kernelspec": {
   "display_name": "Python 3",
   "language": "python",
   "name": "python3"
  },
  "language_info": {
   "codemirror_mode": {
    "name": "ipython",
    "version": 3
   },
   "file_extension": ".py",
   "mimetype": "text/x-python",
   "name": "python",
   "nbconvert_exporter": "python",
   "pygments_lexer": "ipython3",
   "version": "3.9.6"
  }
 },
 "nbformat": 4,
 "nbformat_minor": 5
}
